{
  "nbformat": 4,
  "nbformat_minor": 0,
  "metadata": {
    "colab": {
      "provenance": [],
      "authorship_tag": "ABX9TyMnP3sN+hE79OCH7PLFdhrb",
      "include_colab_link": true
    },
    "kernelspec": {
      "name": "python3",
      "display_name": "Python 3"
    },
    "language_info": {
      "name": "python"
    }
  },
  "cells": [
    {
      "cell_type": "markdown",
      "metadata": {
        "id": "view-in-github",
        "colab_type": "text"
      },
      "source": [
        "<a href=\"https://colab.research.google.com/github/aditya2k5/-Real-Time-Object-Detection-Using-YOLOv8-by-Aditya-Bhatt/blob/main/Real_Time_Object_Detection_Using_YOLOv8webcam.ipynb\" target=\"_parent\"><img src=\"https://colab.research.google.com/assets/colab-badge.svg\" alt=\"Open In Colab\"/></a>"
      ]
    },
    {
      "cell_type": "markdown",
      "source": [
        "for creating a directory\n",
        "\n",
        "## open anaconda prompt\n",
        "\n",
        "# conda create --name yolov8\n",
        "# conda pip instal ultralytics\n",
        "# conda activate yolov8\n"
      ],
      "metadata": {
        "id": "oy0xnx0bfsc6"
      }
    },
    {
      "cell_type": "code",
      "execution_count": null,
      "metadata": {
        "id": "bqbCuGWUfn4V"
      },
      "outputs": [],
      "source": [
        "from ultralytics import YOLO\n",
        "\n",
        "import cv2\n",
        "\n",
        "model= YOLO(\"yolov8s.pt\")\n",
        "\n",
        "results= model.predict(source=\"0\",show=True)\n",
        "\n",
        "print(results)\n"
      ]
    }
  ]
}